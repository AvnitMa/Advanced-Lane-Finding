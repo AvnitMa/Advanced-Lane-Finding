{
 "cells": [
  {
   "cell_type": "code",
   "execution_count": 1,
   "metadata": {
    "collapsed": false,
    "deletable": true,
    "editable": true
   },
   "outputs": [],
   "source": [
    "from moviepy.editor import VideoFileClip\n",
    "from IPython.display import HTML\n",
    "import camera_caliberation_and_correcting_distortion as cc\n",
    "import sliding_windows_and_curvature as sw\n",
    "import thresholded_binary_images as th\n",
    "import prespective_transform as pt\n",
    "import draw_lines as dl\n",
    "import lane_line as l\n",
    "import os\n",
    "import cv2\n",
    "import numpy as np\n",
    "import matplotlib.pyplot as plt\n",
    "import math\n",
    "\n",
    "get_ipython().magic('matplotlib inline')"
   ]
  },
  {
   "cell_type": "code",
   "execution_count": 2,
   "metadata": {
    "collapsed": true,
    "deletable": true,
    "editable": true
   },
   "outputs": [],
   "source": [
    "def get_fit_variables(line_name,binary_warped):\n",
    "    if line_name == \"Left\":\n",
    "        line_fit,line_fitx,ploty,line_lane_inds = sw.sliding_windows_left(binary_warped)\n",
    "    else:\n",
    "        line_fit,line_fitx,ploty,line_lane_inds = sw.sliding_windows_right(binary_warped)\n",
    "    return line_fit,line_fitx,ploty,line_lane_inds"
   ]
  },
  {
   "cell_type": "code",
   "execution_count": 3,
   "metadata": {
    "collapsed": true,
    "deletable": true,
    "editable": true
   },
   "outputs": [],
   "source": [
    "def get_fit_variables_repeat(binary_warped,fit):\n",
    "    return sw.repeated_sliding_windows_line(binary_warped, fit)"
   ]
  },
  {
   "cell_type": "code",
   "execution_count": 4,
   "metadata": {
    "collapsed": false,
    "deletable": true,
    "editable": true
   },
   "outputs": [],
   "source": [
    "def get_line_points(name,fitx,ploty):\n",
    "    if name == \"Left\":\n",
    "        return np.array([np.transpose(np.vstack([fitx, ploty]))])\n",
    "    else:\n",
    "        return np.array([np.flipud(np.transpose(np.vstack([fitx, ploty])))])"
   ]
  },
  {
   "cell_type": "code",
   "execution_count": 5,
   "metadata": {
    "collapsed": false,
    "deletable": true,
    "editable": true
   },
   "outputs": [],
   "source": [
    "def set_line(line,fit,fitx,ploty,offset):\n",
    "    if fitx is not None:\n",
    "        line.recent_xfitted.append(fitx)\n",
    "    if len(line.recent_xfitted) > 0:\n",
    "        line.bestx = np.array(line.recent_xfitted).mean(axis=0)\n",
    "    if fit is not None and len(fit) > 0:\n",
    "        line.fits.append(fit)\n",
    "        line.best_fit = np.array(line.fits).mean(axis=0)\n",
    "    #difference in fit coefficients between last and new fits\n",
    "    if fit is not None and len(fit) > 0 and line.current_fit is not None and len(line.current_fit)>0:\n",
    "        line.diffs = np.subtract(line.current_fit, fit)\n",
    "    if fit is not None:\n",
    "        line.current_fit=fit\n",
    "    if ploty is not None :\n",
    "        line.ploty = ploty\n",
    "    if offset is not None:\n",
    "        xm_per_pix = 3.7/700 \n",
    "        line.line_base_pos = offset*xm_per_pix\n",
    "    #distance in meters of vehicle center from the line\n",
    "    if ploty is not None and fitx is not None and len(fitx)>0 :\n",
    "        line.radius_of_curvature= sw.curv_meters_line(ploty,fitx)\n",
    "        line.points = get_line_points(line.name,fitx,ploty)"
   ]
  },
  {
   "cell_type": "code",
   "execution_count": 6,
   "metadata": {
    "collapsed": true,
    "deletable": true,
    "editable": true
   },
   "outputs": [],
   "source": [
    "def distance(l_points, r_points):\n",
    "    dis = []\n",
    "    ym_per_pix = 30/720 # meters per pixel in y dimension\n",
    "    xm_per_pix = 3.7/700 # meters per pixel in x dimension\n",
    "    \n",
    "    for l_point in l_points[0]:\n",
    "        for r_point in r_points[0]:\n",
    "            \n",
    "            left_p_x ,left_p_y = l_point[0],l_point[1]\n",
    "            right_p_x, right_p_y = r_point[0],r_point[1]\n",
    "            left_p_x*=xm_per_pix\n",
    "            right_p_x*=xm_per_pix\n",
    "            left_p_y*=ym_per_pix\n",
    "            right_p_y*=ym_per_pix\n",
    "            \n",
    "            dis.append(math.sqrt((left_p_x - right_p_x)**2 + (left_p_y - right_p_y)**2))\n",
    "    return min(dis)"
   ]
  },
  {
   "cell_type": "code",
   "execution_count": 7,
   "metadata": {
    "collapsed": true,
    "deletable": true,
    "editable": true
   },
   "outputs": [],
   "source": [
    "def check_distance(lines):\n",
    "    left,right = lines[0],lines[1]\n",
    "    diff = 5\n",
    "    if len(left.points)>0 and len(right.points)>0:\n",
    "        diff = distance(left.points, right.points)\n",
    "    return diff < 4"
   ]
  },
  {
   "cell_type": "code",
   "execution_count": 8,
   "metadata": {
    "collapsed": true,
    "deletable": true,
    "editable": true
   },
   "outputs": [],
   "source": [
    "def check_curv(lines):\n",
    "    left,right = lines[0],lines[1]\n",
    "    curv_l = left.radius_of_curvature\n",
    "    curv_r = right.radius_of_curvature\n",
    "    if curv_l is not None and curv_r is not None and 100<curv_l<10000 and 100<curv_r<10000:\n",
    "         return True\n",
    "    return False"
   ]
  },
  {
   "cell_type": "code",
   "execution_count": 9,
   "metadata": {
    "collapsed": true,
    "deletable": true,
    "editable": true
   },
   "outputs": [],
   "source": [
    "def check_parallel(lines):\n",
    "    left,right = lines[0],lines[1]\n",
    "    diff = np.subtract(left.current_fit,right.current_fit)\n",
    "    return (diff[0]+diff[1])<1"
   ]
  },
  {
   "cell_type": "code",
   "execution_count": 10,
   "metadata": {
    "collapsed": false,
    "deletable": true,
    "editable": true
   },
   "outputs": [],
   "source": [
    "def do_sanity(lines):\n",
    "    return check_curv(lines) and check_parallel(lines) and check_distance(lines)"
   ]
  },
  {
   "cell_type": "code",
   "execution_count": 11,
   "metadata": {
    "collapsed": true,
    "deletable": true,
    "editable": true
   },
   "outputs": [],
   "source": [
    "def detect_line(binary_warped,line,center):\n",
    "    line_fit,line_fitx,ploty,line_lane_inds = get_fit_variables(line.name,binary_warped)\n",
    "    if center is not None and line_fitx is not None and len(line_fitx)>0:\n",
    "        offset = np.mean(line_fitx)-center\n",
    "        set_line(line,line_fit,line_fitx,ploty,offset)"
   ]
  },
  {
   "cell_type": "code",
   "execution_count": 12,
   "metadata": {
    "collapsed": true,
    "deletable": true,
    "editable": true
   },
   "outputs": [],
   "source": [
    "def sanity_failed(binary_warped,line):\n",
    "    old_fit = np.add(line.current_fit, line.diffs)\n",
    "    repeat = get_fit_variables_repeat(binary_warped,old_fit)\n",
    "    return repeat"
   ]
  },
  {
   "cell_type": "code",
   "execution_count": 13,
   "metadata": {
    "collapsed": true,
    "deletable": true,
    "editable": true
   },
   "outputs": [],
   "source": [
    "def repeat_succeeded(line,repeat,center):\n",
    "    line_fit,line_fitx,ploty,line_lane_inds = repeat\n",
    "    if center is not None and line_fitx is not None and len(line_fitx)>0:\n",
    "        offset = np.mean(line_fitx)-center\n",
    "        set_line(line,line_fit,line_fitx,ploty,offset)"
   ]
  },
  {
   "cell_type": "code",
   "execution_count": 14,
   "metadata": {
    "collapsed": true,
    "deletable": true,
    "editable": true
   },
   "outputs": [],
   "source": [
    "def clear_fits(line):\n",
    "    line.recent_xfitted=[]"
   ]
  },
  {
   "cell_type": "code",
   "execution_count": 15,
   "metadata": {
    "collapsed": true,
    "deletable": true,
    "editable": true
   },
   "outputs": [],
   "source": [
    "def set_line_detected(line,detected):\n",
    "    line.detected = detected"
   ]
  },
  {
   "cell_type": "code",
   "execution_count": 16,
   "metadata": {
    "collapsed": false,
    "deletable": true,
    "editable": true
   },
   "outputs": [],
   "source": [
    "def process_image_lines(undist,binary_warped, lines,M, M_inv):\n",
    "    height, width = binary_warped.shape\n",
    "    center = np.int(width/2)\n",
    "\n",
    "    for line in lines:\n",
    "        if line.detected == False:\n",
    "            detect_line(binary_warped,line,center)   \n",
    "        else:\n",
    "            repeat = get_fit_variables_repeat(binary_warped,line.best_fit)\n",
    "            if repeat:\n",
    "                repeat_succeeded(line,repeat,center) \n",
    "        sanity = do_sanity(lines)\n",
    "        if sanity:\n",
    "            set_line_detected(line,True)\n",
    "        else:  \n",
    "            num_iter = 11\n",
    "            fits = np.array(line.fits)\n",
    "            reversed_fits = fits[::-1]\n",
    "            len_reversed = len(reversed_fits)\n",
    "            if len_reversed < num_iter:\n",
    "                detect_line(binary_warped,line,center)\n",
    "                set_line_detected(line,False)\n",
    "            else:\n",
    "                counter =0\n",
    "                while not sanity and counter in range(num_iter):\n",
    "                    repeat = get_fit_variables_repeat(binary_warped,reversed_fits[counter])\n",
    "                    if repeat:\n",
    "                        repeat_succeeded(line,repeat,center)\n",
    "                    sanity = do_sanity(lines)\n",
    "                    counter+=1\n",
    "        \n",
    "                if sanity:\n",
    "                    set_line_detected(line,True)\n",
    "                else:\n",
    "                    detect_line(binary_warped,line,center)\n",
    "                    set_line_detected(line,False)"
   ]
  },
  {
   "cell_type": "code",
   "execution_count": 17,
   "metadata": {
    "collapsed": true,
    "deletable": true,
    "editable": true
   },
   "outputs": [],
   "source": [
    "def get_offset(lines,image):\n",
    "    left,right = lines[0],lines[1]\n",
    "    offset = (left.line_base_pos+right.line_base_pos)/2\n",
    "    return offset"
   ]
  },
  {
   "cell_type": "code",
   "execution_count": 18,
   "metadata": {
    "collapsed": false,
    "deletable": true,
    "editable": true
   },
   "outputs": [],
   "source": [
    "def get_radius(lines):\n",
    "    max_radius = 10000\n",
    "    left,right = lines[0],lines[1]\n",
    "    left_curv = np.round(left.radius_of_curvature,1)\n",
    "    right_curv = np.round(right.radius_of_curvature,1)\n",
    "    if left_curv < max_radius and right_curv < max_radius:\n",
    "        return (left_curv+right_curv)//2\n",
    "    elif left_curv<max_radius:\n",
    "        return left_curv\n",
    "    elif right_curv<max_radius:\n",
    "        return right_curv\n",
    "    else:\n",
    "        return max_radius"
   ]
  },
  {
   "cell_type": "code",
   "execution_count": 19,
   "metadata": {
    "collapsed": true,
    "deletable": true,
    "editable": true
   },
   "outputs": [],
   "source": [
    "def get_direction(offset):\n",
    "    direction = None\n",
    "    if offset < 0:\n",
    "        direction = \"left of\"\n",
    "    elif offset == 0:\n",
    "        direction = \"at\"\n",
    "    else:\n",
    "        direction = \"right of\"\n",
    "    direction+=\" center\"\n",
    "    return direction"
   ]
  },
  {
   "cell_type": "code",
   "execution_count": 20,
   "metadata": {
    "collapsed": false,
    "deletable": true,
    "editable": true
   },
   "outputs": [],
   "source": [
    "def write_curv_offset(image,lines):\n",
    "    car_radius = \"Curvature is  \"+str(get_radius(lines))+'(m)'\n",
    "    offset = np.round(get_offset(lines,image),2)\n",
    "    direction = get_direction(offset)\n",
    "    car_position = \"Vehicle is \"+str(abs(offset))+'m '+direction\n",
    "    cv2.putText(image, car_radius, (50, 50 ), cv2.FONT_HERSHEY_SIMPLEX, 1, 2)\n",
    "    cv2.putText(image, car_position, (50, 100 ), cv2.FONT_HERSHEY_SIMPLEX, 1, 2)"
   ]
  },
  {
   "cell_type": "code",
   "execution_count": 21,
   "metadata": {
    "collapsed": true,
    "deletable": true,
    "editable": true
   },
   "outputs": [],
   "source": [
    "def adjust_gamma(image, gamma=1.0):\n",
    "    # build a lookup table mapping the pixel values [0, 255] to\n",
    "    # their adjusted gamma values\n",
    "    invGamma = 1.0 / gamma\n",
    "    table = np.array([((i / 255.0) ** invGamma) * 255\n",
    "        for i in np.arange(0, 256)]).astype(\"uint8\")\n",
    " \n",
    "    # apply gamma correction using the lookup table\n",
    "    return cv2.LUT(image, table)"
   ]
  },
  {
   "cell_type": "code",
   "execution_count": 22,
   "metadata": {
    "collapsed": true,
    "deletable": true,
    "editable": true
   },
   "outputs": [],
   "source": [
    "def equ_image(image):\n",
    "    img_yuv = cv2.cvtColor(image, cv2.COLOR_BGR2YUV)\n",
    "    img_yuv[:,:,0] = cv2.equalizeHist(img_yuv[:,:,0])\n",
    "    img_output = cv2.cvtColor(img_yuv, cv2.COLOR_YUV2BGR)\n",
    "    return img_output"
   ]
  },
  {
   "cell_type": "code",
   "execution_count": 23,
   "metadata": {
    "collapsed": false,
    "deletable": true,
    "editable": true
   },
   "outputs": [],
   "source": [
    "def process_images(image):\n",
    "    height, width,ch = image.shape\n",
    "    center = np.int(width/2)\n",
    "    expected_diss = np.int(center/2)\n",
    "    \n",
    "    undist = cc.undistort_img(image,objpoints,imgpoints)\n",
    "    image = adjust_gamma(undist, gamma=4)\n",
    "    image = equ_image(image)\n",
    "    \n",
    "    binary_warped, M, M_inv = pt.prespective_transform(image)\n",
    "    result = undist\n",
    "    process_image_lines(undist,binary_warped, lines,M, M_inv)\n",
    "\n",
    "    left_fitx = np.array(lines[0].recent_xfitted)\n",
    "    left_reversed_fitx = left_fitx[::-1] \n",
    "    right_fitx = np.array(lines[1].recent_xfitted)\n",
    "    right_reversed_fitx = right_fitx[::-1]\n",
    "    \n",
    "    if len(left_reversed_fitx) > 0 and len(right_reversed_fitx)>0:\n",
    "        result = dl.draw_lines(undist,M_inv,binary_warped,left_reversed_fitx[0],right_reversed_fitx[0],lines[0].ploty)\n",
    "        write_curv_offset(result,lines)\n",
    "    \n",
    "    return result"
   ]
  },
  {
   "cell_type": "code",
   "execution_count": 24,
   "metadata": {
    "collapsed": true,
    "deletable": true,
    "editable": true
   },
   "outputs": [],
   "source": [
    "def process_test_images(image):\n",
    "    undist = cc.undistort_img(image,objpoints,imgpoints)\n",
    "    image = adjust_gamma(undist,4)\n",
    "    image = equ_image(image)\n",
    "    \n",
    "    binary_warped, M, M_inv = pt.prespective_transform(image)\n",
    "    left_fit,right_fit,left_fitx,right_fitx,ploty,left_lane_inds,right_lane_ind = sw.sliding_windows(binary_warped)\n",
    "    curv = sw.curv_meters(ploty, left_fitx, right_fitx)\n",
    "    result = dl.draw_lines(undist,M_inv,binary_warped,left_fitx,right_fitx,ploty)\n",
    "    return result"
   ]
  },
  {
   "cell_type": "code",
   "execution_count": 25,
   "metadata": {
    "collapsed": true,
    "deletable": true,
    "editable": true
   },
   "outputs": [],
   "source": [
    "def pipeline(input_dir,output_dir,lines,objpoints,imgpoints):\n",
    "    list_img = os.listdir(input_dir)\n",
    "    for img_name in list_img:\n",
    "        input_img_path = os.path.join(input_dir,img_name)\n",
    "        if os.path.isfile(input_img_path):\n",
    "            img = cv2.imread(input_img_path)\n",
    "            output_image = process_test_images(img)\n",
    "            img_output_path = os.path.join(output_dir,img_name)\n",
    "            cv2.imwrite(img_output_path,output_image)"
   ]
  },
  {
   "cell_type": "code",
   "execution_count": 26,
   "metadata": {
    "collapsed": false,
    "deletable": true,
    "editable": true
   },
   "outputs": [],
   "source": [
    "# test pipeline on test images\n",
    "input_dir = \"test_images/\"\n",
    "output_dir =\"output_images/process_test_images/\"\n",
    "lines = [l.Line(\"Left\"),l.Line(\"Right\")]\n",
    "objpoints,imgpoints = cc.calibrate_camera()\n",
    "pipeline(input_dir,output_dir,lines,objpoints,imgpoints)"
   ]
  },
  {
   "cell_type": "code",
   "execution_count": 27,
   "metadata": {
    "collapsed": false,
    "deletable": true,
    "editable": true
   },
   "outputs": [
    {
     "name": "stdout",
     "output_type": "stream",
     "text": [
      "[MoviePy] >>>> Building video project_output.mp4\n",
      "[MoviePy] Writing video project_output.mp4\n"
     ]
    },
    {
     "name": "stderr",
     "output_type": "stream",
     "text": [
      "100%|█████████▉| 1260/1261 [50:47<00:02,  2.04s/it]\n"
     ]
    },
    {
     "name": "stdout",
     "output_type": "stream",
     "text": [
      "[MoviePy] Done.\n",
      "[MoviePy] >>>> Video ready: project_output.mp4 \n",
      "\n",
      "CPU times: user 50min 42s, sys: 1min 14s, total: 51min 56s\n",
      "Wall time: 50min 48s\n"
     ]
    }
   ],
   "source": [
    "#project video:\n",
    "objpoints,imgpoints = cc.calibrate_camera()\n",
    "lines = [l.Line(\"Left\"),l.Line(\"Right\")]\n",
    "project_output = 'project_output.mp4'\n",
    "clip1 = VideoFileClip(\"project_video.mp4\")\n",
    "project_clip = clip1.fl_image(process_images) #NOTE: this function expects color images!!\n",
    "get_ipython().magic('time project_clip.write_videofile(project_output, audio=False)')"
   ]
  },
  {
   "cell_type": "code",
   "execution_count": 29,
   "metadata": {
    "collapsed": false,
    "deletable": true,
    "editable": true
   },
   "outputs": [
    {
     "data": {
      "text/html": [
       "\n",
       "<video width=\"960\" height=\"540\" controls>\n",
       "  <source src=\"project_output.mp4\">\n",
       "</video>\n"
      ],
      "text/plain": [
       "<IPython.core.display.HTML object>"
      ]
     },
     "execution_count": 29,
     "metadata": {},
     "output_type": "execute_result"
    }
   ],
   "source": [
    "HTML(\"\"\"\n",
    "<video width=\"960\" height=\"540\" controls>\n",
    "  <source src=\"{0}\">\n",
    "</video>\n",
    "\"\"\".format(project_output))"
   ]
  },
  {
   "cell_type": "code",
   "execution_count": 30,
   "metadata": {
    "collapsed": false
   },
   "outputs": [
    {
     "name": "stdout",
     "output_type": "stream",
     "text": [
      "[MoviePy] >>>> Building video challenge_output.mp4\n",
      "[MoviePy] Writing video challenge_output.mp4\n"
     ]
    },
    {
     "name": "stderr",
     "output_type": "stream",
     "text": [
      "100%|██████████| 485/485 [20:36<00:00,  3.28s/it]\n"
     ]
    },
    {
     "name": "stdout",
     "output_type": "stream",
     "text": [
      "[MoviePy] Done.\n",
      "[MoviePy] >>>> Video ready: challenge_output.mp4 \n",
      "\n",
      "CPU times: user 20min 43s, sys: 19.4 s, total: 21min 2s\n",
      "Wall time: 20min 37s\n"
     ]
    }
   ],
   "source": [
    "#project video:\n",
    "objpoints,imgpoints = cc.calibrate_camera()\n",
    "lines = [l.Line(\"Left\"),l.Line(\"Right\")]\n",
    "challenge_output = 'challenge_output.mp4'\n",
    "clip_challenge = VideoFileClip(\"challenge_video.mp4\")\n",
    "challenge_clip = clip_challenge.fl_image(process_images) #NOTE: this function expects color images!!\n",
    "get_ipython().magic('time challenge_clip.write_videofile(challenge_output, audio=False)')"
   ]
  }
 ],
 "metadata": {
  "kernelspec": {
   "display_name": "Python 3",
   "language": "python",
   "name": "python3"
  },
  "language_info": {
   "codemirror_mode": {
    "name": "ipython",
    "version": 3
   },
   "file_extension": ".py",
   "mimetype": "text/x-python",
   "name": "python",
   "nbconvert_exporter": "python",
   "pygments_lexer": "ipython3",
   "version": "3.5.2"
  },
  "widgets": {
   "state": {},
   "version": "1.1.2"
  }
 },
 "nbformat": 4,
 "nbformat_minor": 2
}
